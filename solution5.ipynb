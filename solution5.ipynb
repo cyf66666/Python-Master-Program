{
 "cells": [
  {
   "cell_type": "markdown",
   "id": "bc7d7f65",
   "metadata": {},
   "source": [
    "编写代码，使用input()输入两个自然数m,n，分别用程序控制语句与列表推导式两种算法输出介于这两个数之间的所有素数。"
   ]
  },
  {
   "cell_type": "code",
   "execution_count": 4,
   "id": "c4598886",
   "metadata": {},
   "outputs": [
    {
     "name": "stdout",
     "output_type": "stream",
     "text": [
      "请输入两个自然数：50,4\n",
      "5  7  11  13  17  19  23  29  31  37  41  43  47  "
     ]
    },
    {
     "data": {
      "text/plain": [
       "[5, 7, 11, 13, 17, 19, 23, 29, 31, 37, 41, 43, 47]"
      ]
     },
     "execution_count": 4,
     "metadata": {},
     "output_type": "execute_result"
    }
   ],
   "source": [
    "m,n=eval(input(\"请输入两个自然数：\"))\n",
    "if m>n:\n",
    "    m,n=n,m\n",
    "for i in range(m if m%2!=0 else m+1,n+1,2):\n",
    "    for j in range(3,int(i**0.5)+1,2):\n",
    "        if i%j==0:\n",
    "            break\n",
    "    else:\n",
    "        print(i,end=\"  \")\n",
    "        \n",
    "[p for p in range(m if m%2!=0 else m+1,n+1,2) if 0 not in [p%d for d in range(3,int(p**0.5)+1)]]\n"
   ]
  },
  {
   "cell_type": "code",
   "execution_count": null,
   "id": "282f732c",
   "metadata": {},
   "outputs": [],
   "source": []
  },
  {
   "cell_type": "markdown",
   "id": "454a3795",
   "metadata": {},
   "source": [
    "编写代码，使用input()输入一个自然数n，分别用程序控制语句与列表推导式两种算法输出所有小于n的整数中能够同时被5和7整除的最大整数。"
   ]
  },
  {
   "cell_type": "code",
   "execution_count": 10,
   "id": "f615e621",
   "metadata": {},
   "outputs": [
    {
     "name": "stdout",
     "output_type": "stream",
     "text": [
      "请输入一个自然数：100\n",
      "70\n"
     ]
    },
    {
     "data": {
      "text/plain": [
       "70"
      ]
     },
     "execution_count": 10,
     "metadata": {},
     "output_type": "execute_result"
    }
   ],
   "source": [
    "n=int(input(\"请输入一个自然数：\"))\n",
    "for i in range(7,n,7)[::-1]:\n",
    "    if i%5==0:\n",
    "        print(i)\n",
    "        break\n",
    "\n",
    "[p for p in range(7,n,7)[::-1] if p%5==0][0]"
   ]
  },
  {
   "cell_type": "markdown",
   "id": "2bdb13b7",
   "metadata": {},
   "source": [
    "编写代码，使用input()随意输入若干个字符，分别用程序控制语句与列表推导式两种算法输出这些字符中只出现过一次的那些字符。"
   ]
  },
  {
   "cell_type": "code",
   "execution_count": 11,
   "id": "2321f1b5",
   "metadata": {},
   "outputs": [
    {
     "name": "stdout",
     "output_type": "stream",
     "text": [
      "请随意输入若干(20个以上)字符: aekwleuoqiu54o38hreoqeit\n",
      "a  k  w  l  5  4  3  8  h  r  t  "
     ]
    },
    {
     "data": {
      "text/plain": [
       "['a', 'k', 'w', 'l', '5', '4', '3', '8', 'h', 'r', 't']"
      ]
     },
     "execution_count": 11,
     "metadata": {},
     "output_type": "execute_result"
    }
   ],
   "source": [
    "s=input(\"请随意输入若干(20个以上)字符: \")\n",
    "for c in s:\n",
    "    if s.count(c)==1:\n",
    "        print(c,end=\"  \")\n",
    "\n",
    "[c for c in s if s.count(c)==1]"
   ]
  },
  {
   "cell_type": "markdown",
   "id": "51e48364",
   "metadata": {},
   "source": [
    "编写代码，使用列表推导式生成包含20个介于1到50之间随机整数的列表，再分别用程序控制语句与列表切片两种算法将其循环左移5个元素后，再输出此列表。\n",
    "注：所谓循环左移是指每次移动时把列表最左侧的元素移出列表，然后追加到列表尾部。"
   ]
  },
  {
   "cell_type": "code",
   "execution_count": 14,
   "id": "13d0d7f9",
   "metadata": {},
   "outputs": [
    {
     "name": "stdout",
     "output_type": "stream",
     "text": [
      "[10, 32, 31, 50, 11, 38, 12, 26, 45, 39, 32, 21, 17, 17, 37, 5, 30, 33, 42, 45]\n",
      "[38, 12, 26, 45, 39, 32, 21, 17, 17, 37, 5, 30, 33, 42, 45, 10, 32, 31, 50, 11]\n",
      "[10, 32, 31, 50, 11, 38, 12, 26, 45, 39, 32, 21, 17, 17, 37, 5, 30, 33, 42, 45]\n",
      "[38, 12, 26, 45, 39, 32, 21, 17, 17, 37, 5, 30, 33, 42, 45, 10, 32, 31, 50, 11]\n"
     ]
    }
   ],
   "source": [
    "import random\n",
    "lst1=[random.randint(1,50) for i in range(20)]\n",
    "lst2=lst1.copy()\n",
    "print(lst1)\n",
    "for i in range(5):\n",
    "    lst1=lst1[1:]+[lst1[0]]\n",
    "print(lst1)\n",
    "\n",
    "\n",
    "print(lst2)\n",
    "lst2=lst2[5:]+lst2[:5]\n",
    "print(lst2)\n",
    "\n"
   ]
  },
  {
   "cell_type": "code",
   "execution_count": null,
   "id": "73276b24",
   "metadata": {},
   "outputs": [],
   "source": []
  },
  {
   "cell_type": "markdown",
   "id": "e1fadd65",
   "metadata": {},
   "source": [
    "编写代码，使用列表推导式生成一个包含100个1-1000之间随机整数的列表lst，再使用input()输入二个小于100随意整数a和b，输出对应此两个下标索引a和b之间所有元素中的最大值与平均值(包含索引a和b对应的元素)。"
   ]
  },
  {
   "cell_type": "code",
   "execution_count": 43,
   "id": "936f6081",
   "metadata": {},
   "outputs": [
    {
     "name": "stdout",
     "output_type": "stream",
     "text": [
      "请输入两个自然数：31,66\n",
      "最大值：998, 平均值：406.1111\n"
     ]
    }
   ],
   "source": [
    "import random\n",
    "lst=[random.randrange(1,1000) for i in range(100)]\n",
    "a,b=eval(input(\"请输入两个自然数：\"))\n",
    "if a>b:\n",
    "    a,b=b,a\n",
    "mx=max(lst[a:b+1])\n",
    "av=sum(lst[a:b+1])/len(lst[a:b+1])\n",
    "print(\"最大值：{}, 平均值：{:.4f}\".format(mx,av))"
   ]
  },
  {
   "cell_type": "markdown",
   "id": "a4788e86",
   "metadata": {},
   "source": [
    "编写代码，使用永真循环及try-escept结构，任意输入三个边长，求其组成的三角形面积，若不能构成三角形导致求解出错，允许重新输入三角形的三个边长，直至输入使用的三个边长，求出面积。"
   ]
  },
  {
   "cell_type": "code",
   "execution_count": 20,
   "id": "47bedf97",
   "metadata": {},
   "outputs": [
    {
     "name": "stdout",
     "output_type": "stream",
     "text": [
      "请输入三角形的三个边长：22,65,31\n",
      "输入的三个边长不能构成三角形，请重新输入...\n",
      "请输入三角形的三个边长：22,15,31\n",
      "三角形的面积=152.50\n"
     ]
    }
   ],
   "source": [
    "import math\n",
    "while True:\n",
    "    try:\n",
    "        a,b,c=eval(input(\"请输入三角形的三个边长：\"))\n",
    "        l=(a+b+c)/2\n",
    "        s=math.sqrt(l*(l-a)*(l-b)*(l-c))\n",
    "    except:\n",
    "        print(\"输入的三个边长不能构成三角形，请重新输入...\")\n",
    "    else:\n",
    "        print(\"三角形的面积={:.2f}\".format(s))\n",
    "        break"
   ]
  },
  {
   "cell_type": "markdown",
   "id": "895dcc1d",
   "metadata": {},
   "source": [
    "编写代码，利用turtle库绘制一个五角星，边框为黄色，里面填充红色，每个角的边长为100(像素)。"
   ]
  },
  {
   "cell_type": "code",
   "execution_count": 44,
   "id": "f82b35fb",
   "metadata": {},
   "outputs": [],
   "source": [
    "import turtle \n",
    "turtle.setup(800,600,20,20)\n",
    "turtle.pencolor(\"#ffff00\")\n",
    "turtle.fillcolor(\"#ff0000\")\n",
    "turtle.pensize(5)\n",
    "turtle.penup()\n",
    "turtle.goto(0,150)\n",
    "turtle.seth(270)\n",
    "turtle.right(18)\n",
    "turtle.pendown()\n",
    "\n",
    "turtle.begin_fill()\n",
    "for i in range(5):\n",
    "    turtle.fd(100)\n",
    "    turtle.right(72)\n",
    "    turtle.fd(100)\n",
    "    turtle.left(144)\n",
    "turtle.end_fill()\n",
    "turtle.hideturtle()"
   ]
  },
  {
   "cell_type": "code",
   "execution_count": 39,
   "id": "0709cea0",
   "metadata": {},
   "outputs": [],
   "source": []
  },
  {
   "cell_type": "markdown",
   "id": "f2b57c3a",
   "metadata": {},
   "source": [
    "编写代码，利用turtle绘制一个奥林匹克五环标志，已知坐标（-110，-25），（0，-25），（110，-25），（-55，-75）和（55，-75）为半径为45(像素)的奥运五环的起点，五环的颜色分别是red,blue,green,yellow,black，根据结合实际的坐标和颜色绘制奥林匹克五环标志。"
   ]
  },
  {
   "cell_type": "code",
   "execution_count": 1,
   "id": "14d890d4",
   "metadata": {},
   "outputs": [],
   "source": [
    "import turtle \n",
    "turtle.setup(800,600,20,20)\n",
    "turtle.pensize(10)\n",
    "color=[\"#ff0000\",\"#0000ff\",\"#00ff00\",\"#ffff00\",\"#000000\"]\n",
    "xy=[(-110,-25),(0,-25),(110,-25),(-55,-75),(55,-75)]\n",
    "for i in range(5):\n",
    "    turtle.pencolor(color[i])\n",
    "    turtle.penup()\n",
    "    turtle.goto(*xy[i])\n",
    "    turtle.down()\n",
    "    turtle.circle(45,360)\n",
    "turtle.hideturtle()"
   ]
  },
  {
   "cell_type": "code",
   "execution_count": null,
   "id": "f12cb0d8",
   "metadata": {},
   "outputs": [],
   "source": []
  },
  {
   "cell_type": "markdown",
   "id": "b4cf9414",
   "metadata": {},
   "source": [
    "编写代码，利用turtle绘制一个阴阳八卦图，外圆的半径为100(像素)，两个小圆的半径为20(像素)。"
   ]
  },
  {
   "cell_type": "code",
   "execution_count": 1,
   "id": "cc39cf96",
   "metadata": {},
   "outputs": [],
   "source": [
    "import turtle\n",
    "turtle.setup(800,600,20,20)\n",
    "turtle.pencolor(\"#000000\")\n",
    "turtle.penup()\n",
    "turtle.goto(0,100)\n",
    "turtle.down()\n",
    "turtle.circle(-100,360)\n",
    "turtle.fillcolor(\"#000000\")\n",
    "turtle.begin_fill()\n",
    "turtle.circle(-50,180)\n",
    "turtle.circle(50,180)\n",
    "turtle.circle(100,180)\n",
    "turtle.end_fill()\n",
    "\n",
    "\n",
    "turtle.penup()\n",
    "turtle.goto(0,65)\n",
    "turtle.down()\n",
    "turtle.begin_fill()\n",
    "turtle.circle(15,360)\n",
    "turtle.end_fill()\n",
    "turtle.penup()\n",
    "\n",
    "turtle.pencolor(\"#ffffff\")\n",
    "turtle.goto(0,-35)\n",
    "turtle.fillcolor(\"#ffffff\")\n",
    "turtle.begin_fill()\n",
    "turtle.pendown()\n",
    "turtle.circle(15,360)\n",
    "turtle.end_fill()\n",
    "\n",
    "turtle.hideturtle()\n"
   ]
  },
  {
   "cell_type": "code",
   "execution_count": null,
   "id": "1ad42f5a",
   "metadata": {},
   "outputs": [],
   "source": []
  }
 ],
 "metadata": {
  "kernelspec": {
   "display_name": "Python 3",
   "language": "python",
   "name": "python3"
  },
  "language_info": {
   "codemirror_mode": {
    "name": "ipython",
    "version": 3
   },
   "file_extension": ".py",
   "mimetype": "text/x-python",
   "name": "python",
   "nbconvert_exporter": "python",
   "pygments_lexer": "ipython3",
   "version": "3.8.8"
  }
 },
 "nbformat": 4,
 "nbformat_minor": 5
}
