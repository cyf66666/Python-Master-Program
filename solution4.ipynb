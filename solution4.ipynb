{
 "cells": [
  {
   "cell_type": "markdown",
   "id": "55d290dc",
   "metadata": {},
   "source": [
    "现有列表\n",
    "a = [‘name’, ‘sex’, ‘age’]\n",
    "b = [‘Jike’, ‘Male’,26]\n",
    "编程请用一条语句将这两个列表的内容转换成字典，要求以列表a中的元素为“键”，以列表 b 中的元素为“值”。\n"
   ]
  },
  {
   "cell_type": "code",
   "execution_count": 5,
   "id": "f998a355",
   "metadata": {},
   "outputs": [
    {
     "name": "stdout",
     "output_type": "stream",
     "text": [
      "{'name': 'Jike', 'sex': 'Male', 'age': 26}\n"
     ]
    }
   ],
   "source": [
    "a = ['name','sex','age']\n",
    "b = ['Jike','Male',26]\n",
    "dic=dict(zip(a,b))\n",
    "print(dic)"
   ]
  },
  {
   "cell_type": "markdown",
   "id": "055bd6c6",
   "metadata": {},
   "source": [
    "创建一个以52个大小写英文字母为“键”，对应 ASCII 值为“值”的字典。字母字符串来自于 string 库。"
   ]
  },
  {
   "cell_type": "code",
   "execution_count": 7,
   "id": "c1d70020",
   "metadata": {},
   "outputs": [
    {
     "name": "stdout",
     "output_type": "stream",
     "text": [
      "{'A': 65, 'B': 66, 'C': 67, 'D': 68, 'E': 69, 'F': 70, 'G': 71, 'H': 72, 'I': 73, 'J': 74, 'K': 75, 'L': 76, 'M': 77, 'N': 78, 'O': 79, 'P': 80, 'Q': 81, 'R': 82, 'S': 83, 'T': 84, 'U': 85, 'V': 86, 'W': 87, 'X': 88, 'Y': 89, 'Z': 90, 'a': 97, 'b': 98, 'c': 99, 'd': 100, 'e': 101, 'f': 102, 'g': 103, 'h': 104, 'i': 105, 'j': 106, 'k': 107, 'l': 108, 'm': 109, 'n': 110, 'o': 111, 'p': 112, 'q': 113, 'r': 114, 's': 115, 't': 116, 'u': 117, 'v': 118, 'w': 119, 'x': 120, 'y': 121, 'z': 122}\n"
     ]
    }
   ],
   "source": [
    "from string import *\n",
    "lst=list(enumerate(ascii_uppercase,65))+list(enumerate(ascii_lowercase,97))\n",
    "dic={k:v for v,k in lst}\n",
    "print(dic)"
   ]
  },
  {
   "cell_type": "markdown",
   "id": "b4c5c6c0",
   "metadata": {},
   "source": [
    "使用序列解包功能让用户输入一个列表和2个整数，以这2个整数作为下标索引，然后输出列表中介于这 2 个下标之间的元素组成的子列表。\n",
    "例如，用户输入：[1,2,8,3,4,5,6,7,9],2,5\n",
    "程序输出：[8,3,4,5]\n"
   ]
  },
  {
   "cell_type": "code",
   "execution_count": 10,
   "id": "7cc0011d",
   "metadata": {},
   "outputs": [
    {
     "name": "stdout",
     "output_type": "stream",
     "text": [
      "请输入一个列表和两个整数：[1,2,8,3,4,5,6,7,9],2,5\n",
      "[8, 3, 4, 5]\n"
     ]
    }
   ],
   "source": [
    "ls,m,n=eval(input(\"请输入一个列表和两个整数：\"))\n",
    "if m>n:\n",
    "    m,n=n,m\n",
    "print(ls[m:n+1])"
   ]
  },
  {
   "cell_type": "code",
   "execution_count": null,
   "id": "754d33a5",
   "metadata": {},
   "outputs": [],
   "source": []
  },
  {
   "cell_type": "markdown",
   "id": "83a1ec1e",
   "metadata": {},
   "source": [
    "某临床医学院2023级有“临床医学”、“儿科学”和“影像学”三个专业，每个专业有三个自然班(01,02,03)，每个自然班有30名学生，共计270名学生，每个学生的信息包括：学号(stid由10位数字构成，1-4位是入学年度，5-6位是学院专业编号，7-8位是同年级专业班级编号，9-10位是班级学生的序号，如“2023110125”)、姓名(stname，如“张国庆”)、出生日期(birthdate, 如‘2005-10-20’，注意每个学生的年龄应在[16,20]范围内)，班级名(bjname，如“临床医学2023-02班”)，电话(phonenum, 如“13801239811”)。 \n",
    "数据源：要求导入faker及random库，通过列表推导式生成学号、姓名、出生日期，班级名，电话。 \n",
    "(1)\t使用zip()函数将学号(stid)、姓名(stname)、出生日期(birthdate)、班级名(bjname)、电话(phonenum)，共5个数据集成到一个zip对象容器中，为了便于操作，可转为列表对象stinfomation。\n",
    "(2)\t使用stinfomation数据构建一个字典college数据对象，通过：\n",
    "college[入学年度][专业临床医学][班号][学号][索引下标] \n",
    "方式可以查询每一个学生的每一个数据元素。\n",
    "如college[‘2023’][‘临床医学’][‘1班’][‘2023110102’][0]获得该学生的姓名。\n",
    "(3)\t参考上课讲授的案例，使用字典对象college的数据去创建一个json高维数据文件，保存在当前路径下，命名为“college.json”, 然后使用记事本软件打开此文件，查看是否已将字典数据保存在该文件中。\n"
   ]
  },
  {
   "cell_type": "code",
   "execution_count": 16,
   "id": "92ba7f49",
   "metadata": {},
   "outputs": [
    {
     "data": {
      "text/plain": [
       "338"
      ]
     },
     "execution_count": 16,
     "metadata": {},
     "output_type": "execute_result"
    }
   ],
   "source": [
    "len(birth)"
   ]
  },
  {
   "cell_type": "code",
   "execution_count": 19,
   "id": "f358e6b8",
   "metadata": {},
   "outputs": [],
   "source": [
    "import faker,json,random,datetime\n",
    "fak=faker.Faker(\"zh_cn\")\n",
    "zy=[\"临床医学\",\"儿科学\",\"影像学\"]\n",
    "stid=[str(2023*10**6+x*10**4+y*10**2+z) for x in range(11,14) for y in range(1,4)\\\n",
    "      for z in range(1,31)]\n",
    "stname=[fak.name() for i in range(270)]\n",
    "birth=[fak.date_of_birth() for i in range(8000)]\n",
    "birth=[da.strftime(\"%Y-%m-%d\") for da in birth \\\n",
    "         if datetime.date.today().year-da.year>=16 and datetime.date.today().year-da.year<=20]\n",
    "birthdate=birth[:270]\n",
    "bjname=[\"{0}2023-{1}班\".format(m,n) for m in zy for n in range(1,4) for i in range(30)]\n",
    "phonenum=[fak.phone_number() for i in range(270)]\n",
    "stinfo=list(zip(stid,stname,birthdate,bjname,phonenum))\n"
   ]
  },
  {
   "cell_type": "code",
   "execution_count": 20,
   "id": "d4c71a01",
   "metadata": {},
   "outputs": [],
   "source": [
    "college={\"2023\":{\"临床医学\":{\"1班\":{da[0]:[da[1],da[2],da[4]] for da in stinfo[:30]},\\\n",
    "                         \"2班\":{da[0]:[da[1],da[2],da[4]] for da in stinfo[30:60]},\\\n",
    "                         \"3班\":{da[0]:[da[1],da[2],da[4]] for da in stinfo[60:90]}},\\\n",
    "                \"儿科学\":{\"1班\":{da[0]:[da[1],da[2],da[4]] for da in stinfo[90:120]},\\\n",
    "                         \"2班\":{da[0]:[da[1],da[2],da[4]] for da in stinfo[120:150]},\\\n",
    "                         \"3班\":{da[0]:[da[1],da[2],da[4]] for da in stinfo[150:180]}},\\\n",
    "                \"影像学\":{\"1班\":{da[0]:[da[1],da[2],da[4]] for da in stinfo[180:210]},\\\n",
    "                         \"2班\":{da[0]:[da[1],da[2],da[4]] for da in stinfo[210:240]},\\\n",
    "                         \"3班\":{da[0]:[da[1],da[2],da[4]] for da in stinfo[240:]}}}}"
   ]
  },
  {
   "cell_type": "code",
   "execution_count": 23,
   "id": "868d86e6",
   "metadata": {},
   "outputs": [
    {
     "data": {
      "text/plain": [
       "['段红', '2007-11-01', '18654384982']"
      ]
     },
     "execution_count": 23,
     "metadata": {},
     "output_type": "execute_result"
    }
   ],
   "source": [
    "college['2023']['儿科学']['2班']['2023120220']"
   ]
  },
  {
   "cell_type": "code",
   "execution_count": 21,
   "id": "989ba12a",
   "metadata": {},
   "outputs": [],
   "source": [
    "fp=open(\"./college.json\",'w',encoding=\"utf-8\") \n",
    "json.dump(college,fp,ensure_ascii=False,indent=4)\n",
    "fp.close()"
   ]
  },
  {
   "cell_type": "code",
   "execution_count": null,
   "id": "ace386de",
   "metadata": {},
   "outputs": [],
   "source": []
  },
  {
   "cell_type": "markdown",
   "id": "53b41e92",
   "metadata": {},
   "source": [
    "参考课件案例，从电商网站上选定某一个系列（图书小说，水果、蔬菜、衣服等）中20个不同的商品，以本班学生人数 40 为基数，设计生成一个字典，用随机函数为每个学生从20个商品中随机抽取 5- 15 种商品并对每种商品给出评分(评分范围五个等级为：1-5)，现有一人 user, 对这20个商品中的四个商品分别有四个不同的评分，根据这些数据从班级40人中推算出哪位同学选择商品的兴趣与 user 最相近，再从这位最相近同学的商品中确定为user推荐哪一个最佳商品及其评分。\n",
    "注意：被推荐的最佳商品应是 user未有，且评分最高的。\n",
    "多次运行本题的程序代码，查看随机生成数据分析的结果是否符合现实情况。\n",
    "\n",
    "从电商网站获取20个不同品牌的服装，全班40人，每人任意浏览过其中5-15种不同品牌的服装，每种服装浏览的次数是1-5次的随机，现有一人oner也在这些品牌中已浏览过4种品牌的服装，每种服装浏览过1-5次。 求解出oner与班上哪位同学共同浏览过的服装品种最多，相同品牌的服装浏览的次数也最相近，再从这位同学曾浏览过而oner没有浏览的品牌服装中推荐浏览次数最多的一个品牌服装给oner."
   ]
  },
  {
   "cell_type": "code",
   "execution_count": null,
   "id": "0ff43851",
   "metadata": {},
   "outputs": [],
   "source": [
    "import random,faker\n",
    "fak=faker.Faker(\"zh-cn\")\n",
    "stname=[fak.name() for i in range(40)]\n",
    "dressls=['金利来衬衫',\n",
    " '海澜之家衬衫',\n",
    " 'polo长袖T恤',\n",
    " '啄木鸟短袖T恤',\n",
    " '真维斯牛仔裤',\n",
    " '七匹狼休闲裤',\n",
    " 'jeep工装裤',\n",
    " '九牧王西裤',\n",
    " '利郎风衣',\n",
    " '红豆夹克',\n",
    " 'playboy羊毛衫',\n",
    " '米皇羊绒衫',\n",
    " '恒源祥羊绒裤',\n",
    " '波司登羽绒服',\n",
    " '雪中飞羽绒服',\n",
    " '班尼路卫衣',\n",
    " '雅戈尔西服',\n",
    " '报喜鸟西服',\n",
    " '柒牌九分裤',\n",
    " '鄂尔多斯羊绒大衣']\n",
    "st_dress={name:{random.choice(dressls):random.randrange(1,6) for j in range(random.randrange(5,15))}  for name in stname}"
   ]
  },
  {
   "cell_type": "code",
   "execution_count": 21,
   "id": "bbedcea5",
   "metadata": {
    "scrolled": true
   },
   "outputs": [
    {
     "name": "stdout",
     "output_type": "stream",
     "text": [
      "程志强\n",
      "{'柒牌九分裤': 1, '啄木鸟短袖T恤': 5, '雪中飞羽绒服': 1, 'polo长袖T恤': 3, '金利来衬衫': 2}\n",
      "张红\n",
      "{'雪中飞羽绒服': 5, 'polo长袖T恤': 4, '恒源祥羊绒裤': 3, '雅戈尔西服': 5, '班尼路卫衣': 5}\n",
      "朱红霞\n",
      "{'金利来衬衫': 4, '九牧王西裤': 3, '真维斯牛仔裤': 3, '海澜之家衬衫': 3, '雪中飞羽绒服': 1, '柒牌九分裤': 1, 'jeep工装裤': 4}\n",
      "聂健\n",
      "{'恒源祥羊绒裤': 3, '七匹狼休闲裤': 4, '米皇羊绒衫': 4, '金利来衬衫': 1, 'playboy羊毛衫': 3, '真维斯牛仔裤': 5, 'jeep工装裤': 3, '红豆夹克': 5}\n",
      "郑莹\n",
      "{'啄木鸟短袖T恤': 5, '柒牌九分裤': 3, '鄂尔多斯羊绒大衣': 3}\n",
      "古龙\n",
      "{'恒源祥羊绒裤': 4, 'jeep工装裤': 5, '米皇羊绒衫': 1, '金利来衬衫': 4, '真维斯牛仔裤': 3, '柒牌九分裤': 4, '红豆夹克': 3, '九牧王西裤': 3, '海澜之家衬衫': 3, '波司登羽绒服': 5, '雅戈尔西服': 4, '报喜鸟西服': 2}\n",
      "王雪梅\n",
      "{'利郎风衣': 1, '班尼路卫衣': 3, '波司登羽绒服': 3, '柒牌九分裤': 3, '红豆夹克': 3}\n",
      "孟瑞\n",
      "{'九牧王西裤': 2, '红豆夹克': 5, '真维斯牛仔裤': 1, '雪中飞羽绒服': 3}\n",
      "段平\n",
      "{'柒牌九分裤': 5, '真维斯牛仔裤': 3, 'playboy羊毛衫': 2, '米皇羊绒衫': 4, '报喜鸟西服': 5, '雅戈尔西服': 1}\n",
      "张坤\n",
      "{'柒牌九分裤': 5, '恒源祥羊绒裤': 2, '海澜之家衬衫': 5, '啄木鸟短袖T恤': 5, '雪中飞羽绒服': 5, '金利来衬衫': 1, '红豆夹克': 4, '利郎风衣': 4, '报喜鸟西服': 1}\n",
      "孙玉英\n",
      "{'真维斯牛仔裤': 4, 'polo长袖T恤': 4, '金利来衬衫': 1, '九牧王西裤': 1, 'playboy羊毛衫': 2, '报喜鸟西服': 2, '恒源祥羊绒裤': 5, '米皇羊绒衫': 1, '利郎风衣': 5, '波司登羽绒服': 3}\n",
      "石涛\n",
      "{'jeep工装裤': 4, '红豆夹克': 5, '海澜之家衬衫': 3, '九牧王西裤': 2, '报喜鸟西服': 2, '真维斯牛仔裤': 1, 'polo长袖T恤': 2, '恒源祥羊绒裤': 2}\n",
      "汪华\n",
      "{'柒牌九分裤': 3, '金利来衬衫': 5, '七匹狼休闲裤': 5, '米皇羊绒衫': 4, '真维斯牛仔裤': 2, '利郎风衣': 2, 'playboy羊毛衫': 1, '班尼路卫衣': 1, '海澜之家衬衫': 4}\n",
      "王淑华\n",
      "{'班尼路卫衣': 2, '雪中飞羽绒服': 2, '雅戈尔西服': 5, 'playboy羊毛衫': 5, '利郎风衣': 5, '米皇羊绒衫': 5, 'polo长袖T恤': 3}\n",
      "王燕\n",
      "{'班尼路卫衣': 3, '真维斯牛仔裤': 4, 'playboy羊毛衫': 3, '报喜鸟西服': 1, '米皇羊绒衫': 5, 'jeep工装裤': 3, '波司登羽绒服': 4, '七匹狼休闲裤': 2, '利郎风衣': 1, 'polo长袖T恤': 1}\n",
      "杨兵\n",
      "{'柒牌九分裤': 4, 'jeep工装裤': 1, '金利来衬衫': 1, '海澜之家衬衫': 4, 'playboy羊毛衫': 3, '鄂尔多斯羊绒大衣': 1, '七匹狼休闲裤': 4}\n",
      "朱文\n",
      "{'九牧王西裤': 5, '利郎风衣': 4, '报喜鸟西服': 2, '雪中飞羽绒服': 1, '波司登羽绒服': 4, '海澜之家衬衫': 5, '金利来衬衫': 2, '七匹狼休闲裤': 3, '班尼路卫衣': 5}\n",
      "王明\n",
      "{'polo长袖T恤': 2, '波司登羽绒服': 2, '雪中飞羽绒服': 4, '九牧王西裤': 5, '班尼路卫衣': 1, 'playboy羊毛衫': 3}\n",
      "张芳\n",
      "{'米皇羊绒衫': 4, '真维斯牛仔裤': 5, 'polo长袖T恤': 4, 'jeep工装裤': 5, '班尼路卫衣': 5, '海澜之家衬衫': 2, '雅戈尔西服': 3}\n",
      "张静\n",
      "{'金利来衬衫': 4, '雅戈尔西服': 1, 'polo长袖T恤': 2, '雪中飞羽绒服': 1, '红豆夹克': 5, '海澜之家衬衫': 1, '九牧王西裤': 5, '米皇羊绒衫': 3, '恒源祥羊绒裤': 4}\n",
      "庞岩\n",
      "{'playboy羊毛衫': 3, '啄木鸟短袖T恤': 3, '红豆夹克': 4, 'jeep工装裤': 4, 'polo长袖T恤': 4}\n",
      "李建平\n",
      "{'鄂尔多斯羊绒大衣': 2, '红豆夹克': 5, '柒牌九分裤': 1, 'polo长袖T恤': 5, 'jeep工装裤': 3, '真维斯牛仔裤': 3, '海澜之家衬衫': 4, '金利来衬衫': 4, '恒源祥羊绒裤': 1}\n",
      "江凤兰\n",
      "{'九牧王西裤': 4, '海澜之家衬衫': 3, '鄂尔多斯羊绒大衣': 1, '利郎风衣': 2, '米皇羊绒衫': 4}\n",
      "张建军\n",
      "{'雪中飞羽绒服': 5, '金利来衬衫': 3, '七匹狼休闲裤': 3, '恒源祥羊绒裤': 1, '雅戈尔西服': 3}\n",
      "程桂荣\n",
      "{'九牧王西裤': 5, '雪中飞羽绒服': 3, '鄂尔多斯羊绒大衣': 1, '真维斯牛仔裤': 5, '七匹狼休闲裤': 3, 'jeep工装裤': 3, '红豆夹克': 5, '恒源祥羊绒裤': 4, '海澜之家衬衫': 4, '班尼路卫衣': 2}\n",
      "陈玉\n",
      "{'雪中飞羽绒服': 2, '雅戈尔西服': 5, '报喜鸟西服': 1, '恒源祥羊绒裤': 3, '米皇羊绒衫': 4, '红豆夹克': 3, '柒牌九分裤': 1, '波司登羽绒服': 5, 'jeep工装裤': 4, '真维斯牛仔裤': 2}\n",
      "朱阳\n",
      "{'报喜鸟西服': 3, '七匹狼休闲裤': 5, '金利来衬衫': 4, '鄂尔多斯羊绒大衣': 5, '啄木鸟短袖T恤': 3}\n",
      "王玉梅\n",
      "{'报喜鸟西服': 4, '恒源祥羊绒裤': 5, '九牧王西裤': 3, 'polo长袖T恤': 1}\n",
      "姜磊\n",
      "{'海澜之家衬衫': 5, '鄂尔多斯羊绒大衣': 3, '雪中飞羽绒服': 4, '利郎风衣': 5, 'jeep工装裤': 1, 'playboy羊毛衫': 3, '红豆夹克': 2, '真维斯牛仔裤': 2}\n",
      "刘玉华\n",
      "{'米皇羊绒衫': 5, '海澜之家衬衫': 1, '鄂尔多斯羊绒大衣': 5, '七匹狼休闲裤': 4}\n",
      "史丹\n",
      "{'啄木鸟短袖T恤': 1, '金利来衬衫': 2, '利郎风衣': 4, '班尼路卫衣': 2, 'polo长袖T恤': 4, '海澜之家衬衫': 2, '雪中飞羽绒服': 2}\n",
      "李荣\n",
      "{'红豆夹克': 1, '鄂尔多斯羊绒大衣': 4, '米皇羊绒衫': 1, 'jeep工装裤': 2}\n",
      "刘秀荣\n",
      "{'米皇羊绒衫': 1, '七匹狼休闲裤': 2, '利郎风衣': 5, '报喜鸟西服': 4, '红豆夹克': 2, '班尼路卫衣': 4, 'playboy羊毛衫': 5}\n",
      "刘利\n",
      "{'柒牌九分裤': 5, '班尼路卫衣': 3, '雅戈尔西服': 1, '米皇羊绒衫': 3, '啄木鸟短袖T恤': 4, '报喜鸟西服': 3, '红豆夹克': 1, 'polo长袖T恤': 1, '金利来衬衫': 2, '七匹狼休闲裤': 3, '鄂尔多斯羊绒大衣': 4}\n",
      "任强\n",
      "{'波司登羽绒服': 3, '海澜之家衬衫': 2, '雅戈尔西服': 5, '报喜鸟西服': 2, '利郎风衣': 1, '鄂尔多斯羊绒大衣': 4, '雪中飞羽绒服': 3, '七匹狼休闲裤': 2}\n",
      "段龙\n",
      "{'利郎风衣': 3, 'polo长袖T恤': 5, '报喜鸟西服': 1, 'jeep工装裤': 1, '海澜之家衬衫': 3, '雅戈尔西服': 5, '金利来衬衫': 4, '班尼路卫衣': 1, '鄂尔多斯羊绒大衣': 1}\n",
      "段博\n",
      "{'jeep工装裤': 2, '报喜鸟西服': 1, '九牧王西裤': 1, '啄木鸟短袖T恤': 1, '红豆夹克': 3, '恒源祥羊绒裤': 5}\n",
      "刘婷\n",
      "{'米皇羊绒衫': 4, '波司登羽绒服': 2, '金利来衬衫': 4, '真维斯牛仔裤': 3, 'polo长袖T恤': 2, '雅戈尔西服': 2, '班尼路卫衣': 3}\n",
      "敖伟\n",
      "{'波司登羽绒服': 4, '雪中飞羽绒服': 1, '九牧王西裤': 5, '米皇羊绒衫': 5, '海澜之家衬衫': 1, '七匹狼休闲裤': 3, 'playboy羊毛衫': 3, 'polo长袖T恤': 4, '班尼路卫衣': 5, '真维斯牛仔裤': 2}\n",
      "栾婷婷\n",
      "{'鄂尔多斯羊绒大衣': 4, '红豆夹克': 3, 'playboy羊毛衫': 1, '啄木鸟短袖T恤': 1, 'jeep工装裤': 2, '报喜鸟西服': 4, '七匹狼休闲裤': 1, '雅戈尔西服': 3, '九牧王西裤': 5, '利郎风衣': 1, '柒牌九分裤': 5}\n"
     ]
    }
   ],
   "source": [
    "for k,v in st_dress.items():\n",
    "    print(k,v,sep='\\n')"
   ]
  },
  {
   "cell_type": "code",
   "execution_count": 51,
   "id": "2cca696a",
   "metadata": {},
   "outputs": [
    {
     "name": "stdout",
     "output_type": "stream",
     "text": [
      "dict_items([('鄂尔多斯羊绒大衣', 2), ('利郎风衣', 5), ('波司登羽绒服', 2), ('jeep工装裤', 3)])\n"
     ]
    }
   ],
   "source": [
    "oner={random.choice(dressls):random.randrange(1,6) for i in range(4)}\n",
    "print(oner.items())"
   ]
  },
  {
   "cell_type": "code",
   "execution_count": 52,
   "id": "d6d5f427",
   "metadata": {},
   "outputs": [
    {
     "name": "stdout",
     "output_type": "stream",
     "text": [
      "最相似的人： 姜磊\n",
      "浏览过的服装及次数：\n",
      " {'海澜之家衬衫': 5, '鄂尔多斯羊绒大衣': 3, '雪中飞羽绒服': 4, '利郎风衣': 5, 'jeep工装裤': 1, 'playboy羊毛衫': 3, '红豆夹克': 2, '真维斯牛仔裤': 2}\n"
     ]
    }
   ],
   "source": [
    "fun=lambda item:(-len(item[1].keys()&oner.keys()),sum( (item[1].get(dr)-oner.get(dr))**2 for dr in item[1].keys()&oner.keys()))\n",
    "\n",
    "similler,dresses=min(st_dress.items(),key=fun)\n",
    "print(\"最相似的人：\",similler)\n",
    "print(\"浏览过的服装及次数：\\n\",dresses)"
   ]
  },
  {
   "cell_type": "code",
   "execution_count": 54,
   "id": "6ab90ab8",
   "metadata": {},
   "outputs": [
    {
     "name": "stdout",
     "output_type": "stream",
     "text": [
      "推荐的衣服： 海澜之家衬衫 \n",
      "浏览次数： 5\n"
     ]
    }
   ],
   "source": [
    "dress=max(dresses.keys()-oner.keys(),key=lambda x:dresses.get(x))\n",
    "print(\"推荐的衣服：\",dress,\"\\n浏览次数：\",dresses.get(dress))"
   ]
  }
 ],
 "metadata": {
  "kernelspec": {
   "display_name": "Python 3",
   "language": "python",
   "name": "python3"
  },
  "language_info": {
   "codemirror_mode": {
    "name": "ipython",
    "version": 3
   },
   "file_extension": ".py",
   "mimetype": "text/x-python",
   "name": "python",
   "nbconvert_exporter": "python",
   "pygments_lexer": "ipython3",
   "version": "3.8.8"
  }
 },
 "nbformat": 4,
 "nbformat_minor": 5
}
