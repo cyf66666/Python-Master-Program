{
 "cells": [
  {
   "cell_type": "markdown",
   "id": "d0fbe16b",
   "metadata": {},
   "source": [
    "编写一个测试函数，若传入的一个自然数为素数，则返回True，否则，返回False。"
   ]
  },
  {
   "cell_type": "code",
   "execution_count": 6,
   "id": "c77bbd0f",
   "metadata": {},
   "outputs": [
    {
     "name": "stdout",
     "output_type": "stream",
     "text": [
      "请输入一个自然数：101\n",
      "True\n"
     ]
    }
   ],
   "source": [
    "def test(n):\n",
    "    if 0 not in [n%d for d in range(2,int(n**0.5)+1)]:\n",
    "        return True\n",
    "    else:\n",
    "        return False\n",
    "n=int(input('请输入一个自然数：'))\n",
    "print(test(n))"
   ]
  },
  {
   "cell_type": "markdown",
   "id": "afae7ec9",
   "metadata": {},
   "source": [
    "编写函数，传入两个自然数m,n，返回[m,n]中的所有素数。"
   ]
  },
  {
   "cell_type": "code",
   "execution_count": 7,
   "id": "370fbfe3",
   "metadata": {},
   "outputs": [
    {
     "name": "stdout",
     "output_type": "stream",
     "text": [
      "请输入两个自然数：30,2\n",
      "[2, 3, 5, 7, 11, 13, 17, 19, 23, 29]\n"
     ]
    }
   ],
   "source": [
    "def shushu(m,n):\n",
    "    if m>n:\n",
    "        m,n=n,m\n",
    "    return [p for p in range(m,n+1) if 0 not in [p%d for d in range(2,int(p**0.5)+1)]]\n",
    "\n",
    "m,n=eval(input('请输入两个自然数：'))\n",
    "print(shushu(m,n))"
   ]
  },
  {
   "cell_type": "markdown",
   "id": "642725b9",
   "metadata": {},
   "source": [
    "编写函数，传入一个大于1且小于10的自然数n，返回n位自然数中所有的回文数。\n",
    "注：回文数是一种数字，它的特点是从左到右读和从右到左读都是一样的。例如，121是3位的回文数，98789是5位的回文数。\n"
   ]
  },
  {
   "cell_type": "code",
   "execution_count": 16,
   "id": "bcb63be7",
   "metadata": {},
   "outputs": [
    {
     "name": "stdout",
     "output_type": "stream",
     "text": [
      "请输入一个大于1的自然数：3\n",
      "[101, 111, 121, 131, 141, 151, 161, 171, 181, 191, 202, 212, 222, 232, 242, 252, 262, 272, 282, 292, 303, 313, 323, 333, 343, 353, 363, 373, 383, 393, 404, 414, 424, 434, 444, 454, 464, 474, 484, 494, 505, 515, 525, 535, 545, 555, 565, 575, 585, 595, 606, 616, 626, 636, 646, 656, 666, 676, 686, 696, 707, 717, 727, 737, 747, 757, 767, 777, 787, 797, 808, 818, 828, 838, 848, 858, 868, 878, 888, 898, 909, 919, 929, 939, 949, 959, 969, 979, 989, 999]\n"
     ]
    }
   ],
   "source": [
    "def huiwen(n):\n",
    "    lst=[]\n",
    "    low=10**(n-1)\n",
    "    high=10**n\n",
    "    for i in range(low,high):\n",
    "        ch=str(i)\n",
    "        if ch[:n//2]==ch[-(n//2):][::-1]:\n",
    "            lst.append(i)\n",
    "    return lst\n",
    "n=int(input(\"请输入一个大于1的自然数：\"))\n",
    "print(huiwen(n))"
   ]
  },
  {
   "cell_type": "markdown",
   "id": "24fe4ef7",
   "metadata": {},
   "source": [
    "参考课件，编写函数，从键盘输入一个自然数n，返回斐波那契数列中第一个大于n的项。"
   ]
  },
  {
   "cell_type": "code",
   "execution_count": 20,
   "id": "f1c4aa50",
   "metadata": {},
   "outputs": [
    {
     "name": "stdout",
     "output_type": "stream",
     "text": [
      "请输入一个自然数：50\n",
      "55\n"
     ]
    }
   ],
   "source": [
    "def fib(n):\n",
    "    a,b=0,1\n",
    "    while a<n:\n",
    "        a,b=b,a+b\n",
    "    return a\n",
    "n=int(input(\"请输入一个自然数：\"))\n",
    "print(fib(n))"
   ]
  },
  {
   "cell_type": "markdown",
   "id": "041d7a32",
   "metadata": {},
   "source": [
    "编写函数，传入一个包含100个1-1000之间随机生成的整数的列表lst，及二个小于100不同的任意整数a和b，返回[a,b]之间所有元素中的最大值及平均值。"
   ]
  },
  {
   "cell_type": "code",
   "execution_count": 32,
   "id": "d33f1ef9",
   "metadata": {},
   "outputs": [
    {
     "name": "stdout",
     "output_type": "stream",
     "text": [
      "请输入两个小于100的自然数：10,5\n",
      "(548, 348.6666666666667)\n"
     ]
    }
   ],
   "source": [
    "import random\n",
    "random.seed(1010)\n",
    "def get_v(a,b,lst):\n",
    "    if a>b:\n",
    "        a,b=b,a\n",
    "    v_max=max(lst[a:b+1])\n",
    "    v_av=sum(lst[a:b+1])/(b-a+1)\n",
    "    return v_max,v_av\n",
    "ls=[random.randrange(1,1000) for i in range(100)]\n",
    "a,b=eval(input('请输入两个小于100的自然数：'))\n",
    "print(get_v(a,b,ls))"
   ]
  },
  {
   "cell_type": "code",
   "execution_count": null,
   "id": "adb5420b",
   "metadata": {},
   "outputs": [],
   "source": []
  },
  {
   "cell_type": "markdown",
   "id": "caf465ed",
   "metadata": {},
   "source": [
    "编写函数，传入任意一个日期的年、月、日三个数据，返回此日期是该年的第几天？\n",
    "注意：闰年的2月是29天，非闰年的2月是28天。\n"
   ]
  },
  {
   "cell_type": "code",
   "execution_count": 37,
   "id": "505884d1",
   "metadata": {},
   "outputs": [
    {
     "name": "stdout",
     "output_type": "stream",
     "text": [
      "请输入年,月,日:2024,4,28\n",
      "该年的第119天!\n"
     ]
    }
   ],
   "source": [
    "def daynum(year,month,day):\n",
    "    monthdata=[31,28,31,30,31,30,31,31,30,31,30,31]     #非闰年的每月天数列表\n",
    "    if year%400==0 or (year%4==0 and year%100!=0):      #判断是否是闰年\n",
    "        monthdata[1]=29                                  #闰年的2月是29天\n",
    "    if month==1:\n",
    "        dayn=day                                         #1月的日期，即为该年的第几天\n",
    "    else:\n",
    "        dayn=sum(monthdata[:month-1])+day                \n",
    "        #其他的日期的天数，为该月份之前各月天数之和再加此月的天数\n",
    "    return dayn         #返回此日期是该年的第几天\n",
    "\n",
    "dayn=daynum(*(eval(input(\"请输入年,月,日:\"))))\n",
    "print(\"该年的第{}天!\".format(dayn))\n"
   ]
  },
  {
   "cell_type": "markdown",
   "id": "d7a97e4f",
   "metadata": {},
   "source": [
    "编写函数，如果公元1800年1月1日是星期三，那么，传入任意一个日期的年、月、日，返回此日期是星期几？"
   ]
  },
  {
   "cell_type": "code",
   "execution_count": 38,
   "id": "adab4cb8",
   "metadata": {},
   "outputs": [
    {
     "name": "stdout",
     "output_type": "stream",
     "text": [
      "请输入年,月,日:2024,4,28\n",
      "此日期是:星期日\n"
     ]
    }
   ],
   "source": [
    "def weeknum(year,month,day):\n",
    "    daylst=[]                         #保存自1800年以来每年的天数\n",
    "    for i in range(1800,year):       #从1800年开始，到year前一年\n",
    "        if i%400==0 or (i%4==0 and i%100!=0):       #判断是否闰年\n",
    "            daylst.append(366)\n",
    "        else:\n",
    "            daylst.append(365)\n",
    "    dnum=daynum(year,month,day)       #借用前一题的函数，求出此日期是该年的第几天\n",
    "    total=sum(daylst)+dnum            #自1800.1.1以来的总天数\n",
    "    weekn=(total)%7\n",
    "    #1800年1月1日是星期三，则1799年12月31日是星期二，因此增加2天再对7求余即为此日的星期\n",
    "    return (weekn+2)%7     \n",
    "\n",
    "def ntow(n):   #将数字转换为星期\n",
    "    dic={0:'星期日',1:'星期一',2:'星期二',3:'星期三',4:'星期四',5:'星期五',6:'星期六'}\n",
    "    return dic.get(n)\n",
    "\n",
    "w=weeknum(*(eval(input(\"请输入年,月,日:\"))))\n",
    "print(\"此日期是:{}\".format(ntow(w)))"
   ]
  },
  {
   "cell_type": "code",
   "execution_count": null,
   "id": "deac571f",
   "metadata": {},
   "outputs": [],
   "source": []
  },
  {
   "cell_type": "code",
   "execution_count": null,
   "id": "22b74151",
   "metadata": {},
   "outputs": [],
   "source": []
  },
  {
   "cell_type": "markdown",
   "id": "eeeda989",
   "metadata": {},
   "source": [
    "设计并编写一个求三角形面积的函数，含有四个形参，其中默认值参数k的默认值为None,若只传入三个形参，则传入的三个数据为三角形的三个边长，若传递数据1给参数k，则传入的其它三个参数为三角形的二个边长和其夹角，若传递数据2给参数k，则传入的其它三个参数为一个边长和其相邻的两个夹角，若传递其他参数给k，则提示“传入数据错误，不能计算三角形面积…”请根据传入的参数返回不同的三角形面积。\n",
    "注意：要求在此题中采用try—except异常处理结构，如果输入的数据不能构成三角形以求得面积，则给出错误提示，再结束程序运行。\n",
    "弧度制与角度制的换算公式：1度=π/180≈0.01745弧度\n"
   ]
  },
  {
   "cell_type": "markdown",
   "id": "55f3d65b",
   "metadata": {},
   "source": [
    "借助三角形的正,余弦定理,如果那个角是被已知两边所夹,则三角形面积为： a*b*sinA/2\n",
    "\n",
    "已知三角形两角及夹边，求面积公式。\n",
    "设已知△ABC的两个角A、B，以及它们所夹的边c，则：\n",
    "根据正弦定理有：c/sinC=a/sinA=b/sinB\n",
    "即：c/sin(A+B)=a/sinA=b/sinB\n",
    "所以：a=(c*sinA)/sin(A+B)\n",
    "b=(c*sinB)/sin(A+B)\n",
    "再有三角形面积公式有：s=(1/2)acsinB=(1/2)bcsinA得到：\n",
    "s=(1/2)*[(c*sinA)/sin(A+B)]*c*sinB\n",
    "=(c^2*sinAsinB)/[2sin(A+B)]"
   ]
  },
  {
   "cell_type": "code",
   "execution_count": 39,
   "id": "b2966cb6",
   "metadata": {},
   "outputs": [
    {
     "name": "stdout",
     "output_type": "stream",
     "text": [
      "请输入四个参数：12,13,5\n",
      "三个边长的三角形面积是：30.00\n",
      "\n"
     ]
    },
    {
     "data": {
      "text/plain": [
       "30.0"
      ]
     },
     "execution_count": 39,
     "metadata": {},
     "output_type": "execute_result"
    }
   ],
   "source": [
    "from math import *\n",
    "def thrang_area(a,b,c,k=None):\n",
    "    try:\n",
    "        if k is None:\n",
    "            l=(a+b+c)/2\n",
    "            s=sqrt(l*(l-a)*(l-b)*(l-c))\n",
    "            print(\"三个边长的三角形面积是：%.2f\"%s)\n",
    "        elif k==1:\n",
    "            s=a*b*sin(c*pi/180)/2\n",
    "            print(\"二个边长和一个夹角的三角形面积是：%.2f\"%s)\n",
    "        elif k==2:\n",
    "            s=(a**2*sin(b*pi/180)*sin(c*pi/180))/(2*sin((b+c)*pi/180))\n",
    "            print(\"二个角夹一个边长的三角形面积是：%.2f\"%s)\n",
    "        else:\n",
    "            print(\"参数k输入不正确！\")\n",
    "            s=None\n",
    "        print(\"\")\n",
    "        return s\n",
    "    except:\n",
    "        print(\"输入的数据不能计算三角形面积！\")\n",
    "\n",
    "thrang_area(*(eval(input(\"请输入四个参数：\"))))"
   ]
  },
  {
   "cell_type": "code",
   "execution_count": null,
   "id": "b0bb627e",
   "metadata": {},
   "outputs": [],
   "source": []
  },
  {
   "cell_type": "markdown",
   "id": "a27afa16",
   "metadata": {},
   "source": [
    "设计编写一个求面积的函数，包含*p参数和一个默认值参数k,参数k默认为None,若没有重新传输数据给参数k，默认p中的第一个参数为圆的半径，函数返回圆的面积，若传入1给参数k，则p中第一个参数为正方形的边长，返回正方形的面积，若传入2给参数k，则p中前两个参数分别为长方形的两个边长，返回长方形面积，若传入3给参数k，则p中前三个参数分别为三角形的三个边长，返回此三角形的面积。采用try-except异常处理结构，当出现k值不符或p中数据不匹配时，给出错误信息提示，结束程序运行。"
   ]
  },
  {
   "cell_type": "code",
   "execution_count": 34,
   "id": "449b6f14",
   "metadata": {},
   "outputs": [
    {
     "name": "stdout",
     "output_type": "stream",
     "text": [
      "请输入数据：12,13,5\n",
      "请输入k字典：{'k':3}\n",
      "三角形的面积：30.00\n"
     ]
    }
   ],
   "source": [
    "from math import *\n",
    "def area(*p,k=None):\n",
    "    try:\n",
    "        if k is None:\n",
    "            s=pi*p[0]*p[0]\n",
    "            print(\"圆的面积：%.2f\"%s)\n",
    "        elif k==1:\n",
    "            s=p[0]*p[0]\n",
    "            print(\"正方形的面积：%.2f\"%s)\n",
    "        elif k==2:\n",
    "            s=p[0]*p[1]\n",
    "            print(\"长方形的面积：%.2f\"%s)\n",
    "        elif k==3:\n",
    "            l=(p[0]+p[1]+p[2])/2\n",
    "            s=sqrt(l*(l-p[0])*(l-p[1])*(l-p[2]))\n",
    "            print(\"三角形的面积：%.2f\"%s)\n",
    "        else:\n",
    "            print(\"没有对应数据的面积！\")\n",
    "    except:\n",
    "        print(\"输入数据有误！\")\n",
    "\n",
    "area(*(eval(input(\"请输入数据：\"))),**(eval(input(\"请输入k字典：\"))))"
   ]
  },
  {
   "cell_type": "code",
   "execution_count": null,
   "id": "3ee68cd1",
   "metadata": {},
   "outputs": [],
   "source": []
  },
  {
   "cell_type": "markdown",
   "id": "3c59f745",
   "metadata": {},
   "source": [
    "思考题：一座小山上有10个山洞围成一圈，编号为1-10，有一只狐狸要捉藏在某一山洞中的小兔子，寻找洞的规律是这样的，第一次找1号洞，第2次找2号洞，第3次找4号洞，第4次找7号洞，第5次找1号洞，第6次找6号洞…….，依次循环，试编写函数，返回不会被狐狸找到的山洞号。"
   ]
  },
  {
   "cell_type": "code",
   "execution_count": null,
   "id": "f8f2fc68",
   "metadata": {},
   "outputs": [],
   "source": []
  },
  {
   "cell_type": "code",
   "execution_count": 7,
   "id": "d0cbf2d9",
   "metadata": {},
   "outputs": [
    {
     "name": "stdout",
     "output_type": "stream",
     "text": [
      "请输入寻找次数：1000000\n",
      "{8, 10, 3, 5}\n"
     ]
    }
   ],
   "source": [
    "def get_safe(n):\n",
    "    sd=set(range(1,11))\n",
    "    checklst=[]\n",
    "    s=1            #第1次搜寻的山洞\n",
    "    t=s%10         #在10个山洞中所排山洞号         \n",
    "    checklst.append(t)\n",
    "    for i in range(n):\n",
    "        s=s+(i+1)     #下一次搜寻的山洞\n",
    "        t=s%10         #在10上山洞中排山洞号\n",
    "        checklst.append(t)\n",
    "    return sd-set(checklst)   #利用集合的差集，计算出一直未被搜寻的山洞号\n",
    "\n",
    "n=int(input('请输入寻找次数：'))\n",
    "print(get_safe(n))\n",
    "    \n",
    "    \n",
    "        \n",
    "        "
   ]
  },
  {
   "cell_type": "code",
   "execution_count": 4,
   "id": "6f470c3c",
   "metadata": {},
   "outputs": [],
   "source": [
    "sd=set(range(1,11))\n",
    "checklst=[]\n",
    "s=1\n",
    "t=1\n",
    "checklst.append(t)\n",
    "for i in range(n):\n",
    "    s=s+(i+1)\n",
    "    t=s%10\n",
    "    checklst.append(t)"
   ]
  },
  {
   "cell_type": "code",
   "execution_count": 5,
   "id": "e7000058",
   "metadata": {},
   "outputs": [
    {
     "data": {
      "text/plain": [
       "[1,\n",
       " 2,\n",
       " 4,\n",
       " 7,\n",
       " 1,\n",
       " 6,\n",
       " 2,\n",
       " 9,\n",
       " 7,\n",
       " 6,\n",
       " 6,\n",
       " 7,\n",
       " 9,\n",
       " 2,\n",
       " 6,\n",
       " 1,\n",
       " 7,\n",
       " 4,\n",
       " 2,\n",
       " 1,\n",
       " 1,\n",
       " 2,\n",
       " 4,\n",
       " 7,\n",
       " 1,\n",
       " 6,\n",
       " 2,\n",
       " 9,\n",
       " 7,\n",
       " 6,\n",
       " 6,\n",
       " 7,\n",
       " 9,\n",
       " 2,\n",
       " 6,\n",
       " 1,\n",
       " 7,\n",
       " 4,\n",
       " 2,\n",
       " 1,\n",
       " 1,\n",
       " 2,\n",
       " 4,\n",
       " 7,\n",
       " 1,\n",
       " 6,\n",
       " 2,\n",
       " 9,\n",
       " 7,\n",
       " 6,\n",
       " 6,\n",
       " 7,\n",
       " 9,\n",
       " 2,\n",
       " 6,\n",
       " 1,\n",
       " 7,\n",
       " 4,\n",
       " 2,\n",
       " 1,\n",
       " 1,\n",
       " 2,\n",
       " 4,\n",
       " 7,\n",
       " 1,\n",
       " 6,\n",
       " 2,\n",
       " 9,\n",
       " 7,\n",
       " 6,\n",
       " 6,\n",
       " 7,\n",
       " 9,\n",
       " 2,\n",
       " 6,\n",
       " 1,\n",
       " 7,\n",
       " 4,\n",
       " 2,\n",
       " 1,\n",
       " 1,\n",
       " 2,\n",
       " 4,\n",
       " 7,\n",
       " 1,\n",
       " 6,\n",
       " 2,\n",
       " 9,\n",
       " 7,\n",
       " 6,\n",
       " 6,\n",
       " 7,\n",
       " 9,\n",
       " 2,\n",
       " 6,\n",
       " 1,\n",
       " 7,\n",
       " 4,\n",
       " 2,\n",
       " 1]"
      ]
     },
     "execution_count": 5,
     "metadata": {},
     "output_type": "execute_result"
    }
   ],
   "source": [
    "checklst[:100]"
   ]
  },
  {
   "cell_type": "code",
   "execution_count": null,
   "id": "f9577520",
   "metadata": {},
   "outputs": [],
   "source": []
  },
  {
   "cell_type": "code",
   "execution_count": null,
   "id": "5116ba00",
   "metadata": {},
   "outputs": [],
   "source": []
  },
  {
   "cell_type": "code",
   "execution_count": null,
   "id": "09ad3f4e",
   "metadata": {},
   "outputs": [],
   "source": []
  },
  {
   "cell_type": "code",
   "execution_count": null,
   "id": "80d6b939",
   "metadata": {},
   "outputs": [],
   "source": []
  }
 ],
 "metadata": {
  "kernelspec": {
   "display_name": "Python 3 (ipykernel)",
   "language": "python",
   "name": "python3"
  },
  "language_info": {
   "codemirror_mode": {
    "name": "ipython",
    "version": 3
   },
   "file_extension": ".py",
   "mimetype": "text/x-python",
   "name": "python",
   "nbconvert_exporter": "python",
   "pygments_lexer": "ipython3",
   "version": "3.9.13"
  }
 },
 "nbformat": 4,
 "nbformat_minor": 5
}
